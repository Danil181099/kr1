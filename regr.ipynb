{
 "cells": [
  {
   "cell_type": "code",
   "execution_count": 24,
   "id": "0dad54cf",
   "metadata": {},
   "outputs": [],
   "source": [
    "\n",
    "# Importing the libraries\n",
    "import numpy as np\n",
    "import matplotlib.pyplot as plt\n",
    "import pandas as pd"
   ]
  },
  {
   "cell_type": "code",
   "execution_count": 25,
   "id": "24f92a11",
   "metadata": {},
   "outputs": [
    {
     "data": {
      "text/html": [
       "<div>\n",
       "<style scoped>\n",
       "    .dataframe tbody tr th:only-of-type {\n",
       "        vertical-align: middle;\n",
       "    }\n",
       "\n",
       "    .dataframe tbody tr th {\n",
       "        vertical-align: top;\n",
       "    }\n",
       "\n",
       "    .dataframe thead th {\n",
       "        text-align: right;\n",
       "    }\n",
       "</style>\n",
       "<table border=\"1\" class=\"dataframe\">\n",
       "  <thead>\n",
       "    <tr style=\"text-align: right;\">\n",
       "      <th></th>\n",
       "      <th>HumanFlow</th>\n",
       "      <th>Type</th>\n",
       "      <th>NumberOfReviewInGoogle</th>\n",
       "      <th>NumberOfChecksPerMonth</th>\n",
       "      <th>The_average_number_of_units_in_the_check</th>\n",
       "      <th>AverageIncomeOfThePopulation</th>\n",
       "      <th>The_total_area_is_sq.m.</th>\n",
       "      <th>Stop_GT</th>\n",
       "      <th>Stop_GT_at_home</th>\n",
       "      <th>The_final_stop_of_the_GT</th>\n",
       "      <th>Crosswalk</th>\n",
       "      <th>Specialized_bread</th>\n",
       "    </tr>\n",
       "  </thead>\n",
       "  <tbody>\n",
       "    <tr>\n",
       "      <th>0</th>\n",
       "      <td>7.793174</td>\n",
       "      <td>0</td>\n",
       "      <td>2.079442</td>\n",
       "      <td>7.906547</td>\n",
       "      <td>0</td>\n",
       "      <td>9.441452</td>\n",
       "      <td>0</td>\n",
       "      <td>1</td>\n",
       "      <td>1</td>\n",
       "      <td>1</td>\n",
       "      <td>0</td>\n",
       "      <td>0</td>\n",
       "    </tr>\n",
       "    <tr>\n",
       "      <th>1</th>\n",
       "      <td>7.847763</td>\n",
       "      <td>0</td>\n",
       "      <td>2.197225</td>\n",
       "      <td>8.608495</td>\n",
       "      <td>1</td>\n",
       "      <td>9.418979</td>\n",
       "      <td>1</td>\n",
       "      <td>0</td>\n",
       "      <td>0</td>\n",
       "      <td>0</td>\n",
       "      <td>0</td>\n",
       "      <td>1</td>\n",
       "    </tr>\n",
       "    <tr>\n",
       "      <th>2</th>\n",
       "      <td>5.451038</td>\n",
       "      <td>0</td>\n",
       "      <td>2.975973</td>\n",
       "      <td>7.913521</td>\n",
       "      <td>2</td>\n",
       "      <td>9.541800</td>\n",
       "      <td>2</td>\n",
       "      <td>0</td>\n",
       "      <td>0</td>\n",
       "      <td>0</td>\n",
       "      <td>0</td>\n",
       "      <td>0</td>\n",
       "    </tr>\n",
       "    <tr>\n",
       "      <th>3</th>\n",
       "      <td>6.885510</td>\n",
       "      <td>0</td>\n",
       "      <td>2.833213</td>\n",
       "      <td>8.751791</td>\n",
       "      <td>3</td>\n",
       "      <td>9.586033</td>\n",
       "      <td>3</td>\n",
       "      <td>0</td>\n",
       "      <td>0</td>\n",
       "      <td>0</td>\n",
       "      <td>1</td>\n",
       "      <td>0</td>\n",
       "    </tr>\n",
       "    <tr>\n",
       "      <th>4</th>\n",
       "      <td>6.566672</td>\n",
       "      <td>1</td>\n",
       "      <td>1.609438</td>\n",
       "      <td>9.486608</td>\n",
       "      <td>4</td>\n",
       "      <td>9.323669</td>\n",
       "      <td>4</td>\n",
       "      <td>1</td>\n",
       "      <td>0</td>\n",
       "      <td>0</td>\n",
       "      <td>1</td>\n",
       "      <td>0</td>\n",
       "    </tr>\n",
       "    <tr>\n",
       "      <th>5</th>\n",
       "      <td>6.040255</td>\n",
       "      <td>1</td>\n",
       "      <td>2.975973</td>\n",
       "      <td>8.785540</td>\n",
       "      <td>5</td>\n",
       "      <td>9.108308</td>\n",
       "      <td>5</td>\n",
       "      <td>1</td>\n",
       "      <td>0</td>\n",
       "      <td>0</td>\n",
       "      <td>1</td>\n",
       "      <td>0</td>\n",
       "    </tr>\n",
       "    <tr>\n",
       "      <th>6</th>\n",
       "      <td>7.586296</td>\n",
       "      <td>2</td>\n",
       "      <td>2.975973</td>\n",
       "      <td>8.753371</td>\n",
       "      <td>6</td>\n",
       "      <td>9.204322</td>\n",
       "      <td>6</td>\n",
       "      <td>0</td>\n",
       "      <td>0</td>\n",
       "      <td>0</td>\n",
       "      <td>1</td>\n",
       "      <td>1</td>\n",
       "    </tr>\n",
       "    <tr>\n",
       "      <th>7</th>\n",
       "      <td>7.167038</td>\n",
       "      <td>2</td>\n",
       "      <td>2.975973</td>\n",
       "      <td>8.465900</td>\n",
       "      <td>7</td>\n",
       "      <td>9.317399</td>\n",
       "      <td>7</td>\n",
       "      <td>1</td>\n",
       "      <td>1</td>\n",
       "      <td>0</td>\n",
       "      <td>0</td>\n",
       "      <td>1</td>\n",
       "    </tr>\n",
       "    <tr>\n",
       "      <th>8</th>\n",
       "      <td>7.372829</td>\n",
       "      <td>0</td>\n",
       "      <td>2.975973</td>\n",
       "      <td>8.821437</td>\n",
       "      <td>6</td>\n",
       "      <td>9.369427</td>\n",
       "      <td>8</td>\n",
       "      <td>0</td>\n",
       "      <td>0</td>\n",
       "      <td>0</td>\n",
       "      <td>0</td>\n",
       "      <td>0</td>\n",
       "    </tr>\n",
       "    <tr>\n",
       "      <th>9</th>\n",
       "      <td>7.013915</td>\n",
       "      <td>0</td>\n",
       "      <td>2.975973</td>\n",
       "      <td>8.110427</td>\n",
       "      <td>8</td>\n",
       "      <td>9.044286</td>\n",
       "      <td>9</td>\n",
       "      <td>1</td>\n",
       "      <td>0</td>\n",
       "      <td>0</td>\n",
       "      <td>1</td>\n",
       "      <td>0</td>\n",
       "    </tr>\n",
       "    <tr>\n",
       "      <th>10</th>\n",
       "      <td>7.848934</td>\n",
       "      <td>0</td>\n",
       "      <td>1.609438</td>\n",
       "      <td>8.866864</td>\n",
       "      <td>9</td>\n",
       "      <td>9.329900</td>\n",
       "      <td>10</td>\n",
       "      <td>0</td>\n",
       "      <td>0</td>\n",
       "      <td>0</td>\n",
       "      <td>0</td>\n",
       "      <td>0</td>\n",
       "    </tr>\n",
       "    <tr>\n",
       "      <th>11</th>\n",
       "      <td>7.698483</td>\n",
       "      <td>0</td>\n",
       "      <td>3.332205</td>\n",
       "      <td>8.666819</td>\n",
       "      <td>10</td>\n",
       "      <td>9.252442</td>\n",
       "      <td>11</td>\n",
       "      <td>0</td>\n",
       "      <td>0</td>\n",
       "      <td>0</td>\n",
       "      <td>1</td>\n",
       "      <td>0</td>\n",
       "    </tr>\n",
       "    <tr>\n",
       "      <th>12</th>\n",
       "      <td>6.705639</td>\n",
       "      <td>0</td>\n",
       "      <td>2.197225</td>\n",
       "      <td>8.166784</td>\n",
       "      <td>11</td>\n",
       "      <td>9.378394</td>\n",
       "      <td>12</td>\n",
       "      <td>0</td>\n",
       "      <td>0</td>\n",
       "      <td>0</td>\n",
       "      <td>0</td>\n",
       "      <td>0</td>\n",
       "    </tr>\n",
       "    <tr>\n",
       "      <th>13</th>\n",
       "      <td>7.798113</td>\n",
       "      <td>2</td>\n",
       "      <td>2.975973</td>\n",
       "      <td>8.220941</td>\n",
       "      <td>12</td>\n",
       "      <td>9.605082</td>\n",
       "      <td>13</td>\n",
       "      <td>1</td>\n",
       "      <td>1</td>\n",
       "      <td>1</td>\n",
       "      <td>1</td>\n",
       "      <td>0</td>\n",
       "    </tr>\n",
       "    <tr>\n",
       "      <th>14</th>\n",
       "      <td>7.626083</td>\n",
       "      <td>0</td>\n",
       "      <td>2.975973</td>\n",
       "      <td>8.997147</td>\n",
       "      <td>13</td>\n",
       "      <td>9.131297</td>\n",
       "      <td>14</td>\n",
       "      <td>0</td>\n",
       "      <td>0</td>\n",
       "      <td>0</td>\n",
       "      <td>0</td>\n",
       "      <td>0</td>\n",
       "    </tr>\n",
       "    <tr>\n",
       "      <th>15</th>\n",
       "      <td>7.372829</td>\n",
       "      <td>1</td>\n",
       "      <td>2.975973</td>\n",
       "      <td>8.593413</td>\n",
       "      <td>12</td>\n",
       "      <td>9.369427</td>\n",
       "      <td>15</td>\n",
       "      <td>0</td>\n",
       "      <td>0</td>\n",
       "      <td>0</td>\n",
       "      <td>0</td>\n",
       "      <td>0</td>\n",
       "    </tr>\n",
       "    <tr>\n",
       "      <th>16</th>\n",
       "      <td>7.542744</td>\n",
       "      <td>1</td>\n",
       "      <td>2.079442</td>\n",
       "      <td>9.007979</td>\n",
       "      <td>14</td>\n",
       "      <td>9.441452</td>\n",
       "      <td>16</td>\n",
       "      <td>0</td>\n",
       "      <td>0</td>\n",
       "      <td>0</td>\n",
       "      <td>0</td>\n",
       "      <td>1</td>\n",
       "    </tr>\n",
       "    <tr>\n",
       "      <th>17</th>\n",
       "      <td>6.045005</td>\n",
       "      <td>1</td>\n",
       "      <td>2.975973</td>\n",
       "      <td>8.225235</td>\n",
       "      <td>15</td>\n",
       "      <td>9.484937</td>\n",
       "      <td>0</td>\n",
       "      <td>0</td>\n",
       "      <td>0</td>\n",
       "      <td>0</td>\n",
       "      <td>0</td>\n",
       "      <td>0</td>\n",
       "    </tr>\n",
       "    <tr>\n",
       "      <th>18</th>\n",
       "      <td>7.891331</td>\n",
       "      <td>0</td>\n",
       "      <td>2.397895</td>\n",
       "      <td>8.688454</td>\n",
       "      <td>16</td>\n",
       "      <td>9.623774</td>\n",
       "      <td>17</td>\n",
       "      <td>1</td>\n",
       "      <td>0</td>\n",
       "      <td>0</td>\n",
       "      <td>1</td>\n",
       "      <td>1</td>\n",
       "    </tr>\n",
       "    <tr>\n",
       "      <th>19</th>\n",
       "      <td>7.372829</td>\n",
       "      <td>0</td>\n",
       "      <td>2.975973</td>\n",
       "      <td>8.869117</td>\n",
       "      <td>6</td>\n",
       "      <td>9.369427</td>\n",
       "      <td>18</td>\n",
       "      <td>0</td>\n",
       "      <td>0</td>\n",
       "      <td>0</td>\n",
       "      <td>0</td>\n",
       "      <td>0</td>\n",
       "    </tr>\n",
       "  </tbody>\n",
       "</table>\n",
       "</div>"
      ],
      "text/plain": [
       "    HumanFlow  Type  NumberOfReviewInGoogle  NumberOfChecksPerMonth  \\\n",
       "0    7.793174     0                2.079442                7.906547   \n",
       "1    7.847763     0                2.197225                8.608495   \n",
       "2    5.451038     0                2.975973                7.913521   \n",
       "3    6.885510     0                2.833213                8.751791   \n",
       "4    6.566672     1                1.609438                9.486608   \n",
       "5    6.040255     1                2.975973                8.785540   \n",
       "6    7.586296     2                2.975973                8.753371   \n",
       "7    7.167038     2                2.975973                8.465900   \n",
       "8    7.372829     0                2.975973                8.821437   \n",
       "9    7.013915     0                2.975973                8.110427   \n",
       "10   7.848934     0                1.609438                8.866864   \n",
       "11   7.698483     0                3.332205                8.666819   \n",
       "12   6.705639     0                2.197225                8.166784   \n",
       "13   7.798113     2                2.975973                8.220941   \n",
       "14   7.626083     0                2.975973                8.997147   \n",
       "15   7.372829     1                2.975973                8.593413   \n",
       "16   7.542744     1                2.079442                9.007979   \n",
       "17   6.045005     1                2.975973                8.225235   \n",
       "18   7.891331     0                2.397895                8.688454   \n",
       "19   7.372829     0                2.975973                8.869117   \n",
       "\n",
       "    The_average_number_of_units_in_the_check  AverageIncomeOfThePopulation  \\\n",
       "0                                          0                      9.441452   \n",
       "1                                          1                      9.418979   \n",
       "2                                          2                      9.541800   \n",
       "3                                          3                      9.586033   \n",
       "4                                          4                      9.323669   \n",
       "5                                          5                      9.108308   \n",
       "6                                          6                      9.204322   \n",
       "7                                          7                      9.317399   \n",
       "8                                          6                      9.369427   \n",
       "9                                          8                      9.044286   \n",
       "10                                         9                      9.329900   \n",
       "11                                        10                      9.252442   \n",
       "12                                        11                      9.378394   \n",
       "13                                        12                      9.605082   \n",
       "14                                        13                      9.131297   \n",
       "15                                        12                      9.369427   \n",
       "16                                        14                      9.441452   \n",
       "17                                        15                      9.484937   \n",
       "18                                        16                      9.623774   \n",
       "19                                         6                      9.369427   \n",
       "\n",
       "    The_total_area_is_sq.m.  Stop_GT  Stop_GT_at_home  \\\n",
       "0                         0        1                1   \n",
       "1                         1        0                0   \n",
       "2                         2        0                0   \n",
       "3                         3        0                0   \n",
       "4                         4        1                0   \n",
       "5                         5        1                0   \n",
       "6                         6        0                0   \n",
       "7                         7        1                1   \n",
       "8                         8        0                0   \n",
       "9                         9        1                0   \n",
       "10                       10        0                0   \n",
       "11                       11        0                0   \n",
       "12                       12        0                0   \n",
       "13                       13        1                1   \n",
       "14                       14        0                0   \n",
       "15                       15        0                0   \n",
       "16                       16        0                0   \n",
       "17                        0        0                0   \n",
       "18                       17        1                0   \n",
       "19                       18        0                0   \n",
       "\n",
       "    The_final_stop_of_the_GT  Crosswalk  Specialized_bread  \n",
       "0                          1          0                  0  \n",
       "1                          0          0                  1  \n",
       "2                          0          0                  0  \n",
       "3                          0          1                  0  \n",
       "4                          0          1                  0  \n",
       "5                          0          1                  0  \n",
       "6                          0          1                  1  \n",
       "7                          0          0                  1  \n",
       "8                          0          0                  0  \n",
       "9                          0          1                  0  \n",
       "10                         0          0                  0  \n",
       "11                         0          1                  0  \n",
       "12                         0          0                  0  \n",
       "13                         1          1                  0  \n",
       "14                         0          0                  0  \n",
       "15                         0          0                  0  \n",
       "16                         0          0                  1  \n",
       "17                         0          0                  0  \n",
       "18                         0          1                  1  \n",
       "19                         0          0                  0  "
      ]
     },
     "execution_count": 25,
     "metadata": {},
     "output_type": "execute_result"
    }
   ],
   "source": [
    "\n",
    "# Importing the dataset\n",
    "df = pd.read_csv('kr_1.csv', sep=';')\n",
    "df.head(20)"
   ]
  },
  {
   "cell_type": "code",
   "execution_count": 26,
   "id": "14278611",
   "metadata": {},
   "outputs": [
    {
     "data": {
      "text/plain": [
       "(43, 12)"
      ]
     },
     "execution_count": 26,
     "metadata": {},
     "output_type": "execute_result"
    }
   ],
   "source": [
    "df.shape"
   ]
  },
  {
   "cell_type": "markdown",
   "id": "22299d3d",
   "metadata": {},
   "source": [
    "Датасет после подготовки данных содержит в себе 43 наблюдения и 12 переменных."
   ]
  },
  {
   "cell_type": "code",
   "execution_count": 27,
   "id": "5dad4a86",
   "metadata": {},
   "outputs": [
    {
     "data": {
      "image/png": "[encoded data removed]",
      "text/plain": [
       "<Figure size 1440x1440 with 2 Axes>"
      ]
     },
     "metadata": {
      "needs_background": "light"
     },
     "output_type": "display_data"
    }
   ],
   "source": [
    "\n",
    "# Cheking correlations\n",
    "import seaborn as sns\n",
    "corrmat = df.corr()\n",
    "f, ax = plt.subplots(figsize=(20, 20))\n",
    "sns.heatmap(corrmat, annot=True)\n",
    "plt.show()"
   ]
  },
  {
   "cell_type": "markdown",
   "id": "8441de9c",
   "metadata": {},
   "source": [
    "Наиболее влиятельная переменная на зависимую - NumberOfChecksPerMonth. Логично, что количество чеков на прямую зависит от количества людей в магазине."
   ]
  },
  {
   "cell_type": "markdown",
   "id": "7282351d",
   "metadata": {},
   "source": [
    "# Splitting"
   ]
  },
  {
   "cell_type": "code",
   "execution_count": 28,
   "id": "f708aa26",
   "metadata": {},
   "outputs": [],
   "source": [
    "# Splitting the dataset into the Training set and Test set\n",
    "X = df.iloc[:, 1:]\n",
    "y = df['HumanFlow']\n",
    "from sklearn.model_selection import train_test_split\n",
    "X_train, X_test, y_train, y_test = train_test_split(X, y, test_size=0.2, random_state=10)"
   ]
  },
  {
   "cell_type": "markdown",
   "id": "8bdc769a",
   "metadata": {},
   "source": [
    "# Simple Linear Regression"
   ]
  },
  {
   "cell_type": "code",
   "execution_count": 29,
   "id": "c777d0fa",
   "metadata": {},
   "outputs": [
    {
     "data": {
      "text/plain": [
       "(array([0.17400073]), 5.803743251291574)"
      ]
     },
     "execution_count": 29,
     "metadata": {},
     "output_type": "execute_result"
    }
   ],
   "source": [
    "\n",
    "# Fitting Simple Linear Regression to the Training set \n",
    "f1 = ['NumberOfChecksPerMonth']\n",
    "\n",
    "from sklearn.linear_model import LinearRegression\n",
    "sr = LinearRegression().fit(X_train[f1], y_train)\n",
    "\n",
    "# Getting parameters\n",
    "sr.coef_, sr.intercept_"
   ]
  },
  {
   "cell_type": "code",
   "execution_count": 30,
   "id": "4856d18c",
   "metadata": {},
   "outputs": [
    {
     "data": {
      "text/plain": [
       "0.039"
      ]
     },
     "execution_count": 30,
     "metadata": {},
     "output_type": "execute_result"
    }
   ],
   "source": [
    "# Predicting the Test set results\n",
    "y_pred = sr.predict(X_test[f1])\n",
    "\n",
    "# Coefficient of determination R^2\n",
    "sr.score(X_train[f1], y_train).round(3)"
   ]
  },
  {
   "cell_type": "markdown",
   "id": "fadb6c23",
   "metadata": {},
   "source": [
    "Получено значение R^2 = 0,039. Модель описана на очень низком уровне. Сделаем дальнейшие преобразования и построим множественную регрессию."
   ]
  },
  {
   "cell_type": "code",
   "execution_count": 31,
   "id": "a8f94600",
   "metadata": {},
   "outputs": [
    {
     "data": {
      "text/plain": [
       "(0.47, 0.76)"
      ]
     },
     "execution_count": 31,
     "metadata": {},
     "output_type": "execute_result"
    }
   ],
   "source": [
    "# Mean squared error\n",
    "from sklearn.metrics import mean_squared_error\n",
    "mse1 = mean_squared_error(y_train, sr.predict(X_train[f1]), squared=False).round(2), mean_squared_error(y_test, y_pred, squared=False).round(2)\n",
    "mse1"
   ]
  },
  {
   "cell_type": "markdown",
   "id": "0680a6bb",
   "metadata": {},
   "source": [
    "На обучающей выборке значение MSE намного больше. Модель переобучилась."
   ]
  },
  {
   "cell_type": "markdown",
   "id": "cea2fa9f",
   "metadata": {},
   "source": [
    "# Multiple Linear Regression"
   ]
  },
  {
   "cell_type": "code",
   "execution_count": 32,
   "id": "f28767c8",
   "metadata": {},
   "outputs": [],
   "source": [
    "#!pip install statsmodels"
   ]
  },
  {
   "cell_type": "code",
   "execution_count": 33,
   "id": "3b0e5429",
   "metadata": {
    "scrolled": true
   },
   "outputs": [
    {
     "data": {
      "text/plain": [
       "0.376"
      ]
     },
     "execution_count": 33,
     "metadata": {},
     "output_type": "execute_result"
    }
   ],
   "source": [
    "\n",
    "# Fitting Multiple Regression\n",
    "mr = LinearRegression().fit(X_train, y_train)\n",
    "\n",
    "# Coefficient of determination R^2\n",
    "mr.score(X_train, y_train).round(3)"
   ]
  },
  {
   "cell_type": "markdown",
   "id": "1d941daf",
   "metadata": {},
   "source": [
    "Значение R^2 значительно увеличилось. Однако модель все так же описана не лучшим образом. Продолжим работу с моделью"
   ]
  },
  {
   "cell_type": "markdown",
   "id": "9bf86b8f",
   "metadata": {},
   "source": [
    "# Checking p-values"
   ]
  },
  {
   "cell_type": "code",
   "execution_count": 34,
   "id": "d8333514",
   "metadata": {},
   "outputs": [
    {
     "data": {
      "text/html": [
       "<table class=\"simpletable\">\n",
       "<caption>OLS Regression Results</caption>\n",
       "<tr>\n",
       "  <th>Dep. Variable:</th>        <td>HumanFlow</td>    <th>  R-squared:         </th> <td>   0.376</td>\n",
       "</tr>\n",
       "<tr>\n",
       "  <th>Model:</th>                   <td>OLS</td>       <th>  Adj. R-squared:    </th> <td>   0.064</td>\n",
       "</tr>\n",
       "<tr>\n",
       "  <th>Method:</th>             <td>Least Squares</td>  <th>  F-statistic:       </th> <td>   1.206</td>\n",
       "</tr>\n",
       "<tr>\n",
       "  <th>Date:</th>             <td>Thu, 21 Oct 2021</td> <th>  Prob (F-statistic):</th>  <td> 0.339</td> \n",
       "</tr>\n",
       "<tr>\n",
       "  <th>Time:</th>                 <td>14:56:22</td>     <th>  Log-Likelihood:    </th> <td> -14.951</td>\n",
       "</tr>\n",
       "<tr>\n",
       "  <th>No. Observations:</th>      <td>    34</td>      <th>  AIC:               </th> <td>   53.90</td>\n",
       "</tr>\n",
       "<tr>\n",
       "  <th>Df Residuals:</th>          <td>    22</td>      <th>  BIC:               </th> <td>   72.22</td>\n",
       "</tr>\n",
       "<tr>\n",
       "  <th>Df Model:</th>              <td>    11</td>      <th>                     </th>     <td> </td>   \n",
       "</tr>\n",
       "<tr>\n",
       "  <th>Covariance Type:</th>      <td>nonrobust</td>    <th>                     </th>     <td> </td>   \n",
       "</tr>\n",
       "</table>\n",
       "<table class=\"simpletable\">\n",
       "<tr>\n",
       "                      <td></td>                        <th>coef</th>     <th>std err</th>      <th>t</th>      <th>P>|t|</th>  <th>[0.025</th>    <th>0.975]</th>  \n",
       "</tr>\n",
       "<tr>\n",
       "  <th>const</th>                                    <td>    8.5855</td> <td>    8.693</td> <td>    0.988</td> <td> 0.334</td> <td>   -9.442</td> <td>   26.613</td>\n",
       "</tr>\n",
       "<tr>\n",
       "  <th>Type</th>                                     <td>   -0.0521</td> <td>    0.206</td> <td>   -0.253</td> <td> 0.803</td> <td>   -0.479</td> <td>    0.375</td>\n",
       "</tr>\n",
       "<tr>\n",
       "  <th>NumberOfReviewInGoogle</th>                   <td>   -0.0073</td> <td>    0.130</td> <td>   -0.056</td> <td> 0.956</td> <td>   -0.278</td> <td>    0.263</td>\n",
       "</tr>\n",
       "<tr>\n",
       "  <th>NumberOfChecksPerMonth</th>                   <td>    0.2894</td> <td>    0.246</td> <td>    1.179</td> <td> 0.251</td> <td>   -0.220</td> <td>    0.799</td>\n",
       "</tr>\n",
       "<tr>\n",
       "  <th>The_average_number_of_units_in_the_check</th> <td>   -0.0058</td> <td>    0.015</td> <td>   -0.385</td> <td> 0.704</td> <td>   -0.037</td> <td>    0.025</td>\n",
       "</tr>\n",
       "<tr>\n",
       "  <th>AverageIncomeOfThePopulation</th>             <td>   -0.3894</td> <td>    0.772</td> <td>   -0.504</td> <td> 0.619</td> <td>   -1.990</td> <td>    1.212</td>\n",
       "</tr>\n",
       "<tr>\n",
       "  <th>The_total_area_is_sq.m.</th>                  <td>    0.0002</td> <td>    0.014</td> <td>    0.013</td> <td> 0.990</td> <td>   -0.029</td> <td>    0.029</td>\n",
       "</tr>\n",
       "<tr>\n",
       "  <th>Stop_GT</th>                                  <td>   -0.3817</td> <td>    0.348</td> <td>   -1.097</td> <td> 0.284</td> <td>   -1.103</td> <td>    0.340</td>\n",
       "</tr>\n",
       "<tr>\n",
       "  <th>Stop_GT_at_home</th>                          <td>    0.5141</td> <td>    0.479</td> <td>    1.074</td> <td> 0.294</td> <td>   -0.479</td> <td>    1.507</td>\n",
       "</tr>\n",
       "<tr>\n",
       "  <th>The_final_stop_of_the_GT</th>                 <td>    0.4408</td> <td>    0.476</td> <td>    0.926</td> <td> 0.365</td> <td>   -0.547</td> <td>    1.428</td>\n",
       "</tr>\n",
       "<tr>\n",
       "  <th>Crosswalk</th>                                <td>   -0.3102</td> <td>    0.214</td> <td>   -1.450</td> <td> 0.161</td> <td>   -0.754</td> <td>    0.133</td>\n",
       "</tr>\n",
       "<tr>\n",
       "  <th>Specialized_bread</th>                        <td>    0.1853</td> <td>    0.301</td> <td>    0.616</td> <td> 0.544</td> <td>   -0.438</td> <td>    0.809</td>\n",
       "</tr>\n",
       "</table>\n",
       "<table class=\"simpletable\">\n",
       "<tr>\n",
       "  <th>Omnibus:</th>       <td> 2.571</td> <th>  Durbin-Watson:     </th> <td>   2.671</td>\n",
       "</tr>\n",
       "<tr>\n",
       "  <th>Prob(Omnibus):</th> <td> 0.277</td> <th>  Jarque-Bera (JB):  </th> <td>   1.886</td>\n",
       "</tr>\n",
       "<tr>\n",
       "  <th>Skew:</th>          <td>-0.399</td> <th>  Prob(JB):          </th> <td>   0.389</td>\n",
       "</tr>\n",
       "<tr>\n",
       "  <th>Kurtosis:</th>      <td> 2.166</td> <th>  Cond. No.          </th> <td>2.70e+03</td>\n",
       "</tr>\n",
       "</table><br/><br/>Notes:<br/>[1] Standard Errors assume that the covariance matrix of the errors is correctly specified.<br/>[2] The condition number is large, 2.7e+03. This might indicate that there are<br/>strong multicollinearity or other numerical problems."
      ],
      "text/plain": [
       "<class 'statsmodels.iolib.summary.Summary'>\n",
       "\"\"\"\n",
       "                            OLS Regression Results                            \n",
       "==============================================================================\n",
       "Dep. Variable:              HumanFlow   R-squared:                       0.376\n",
       "Model:                            OLS   Adj. R-squared:                  0.064\n",
       "Method:                 Least Squares   F-statistic:                     1.206\n",
       "Date:                Thu, 21 Oct 2021   Prob (F-statistic):              0.339\n",
       "Time:                        14:56:22   Log-Likelihood:                -14.951\n",
       "No. Observations:                  34   AIC:                             53.90\n",
       "Df Residuals:                      22   BIC:                             72.22\n",
       "Df Model:                          11                                         \n",
       "Covariance Type:            nonrobust                                         \n",
       "============================================================================================================\n",
       "                                               coef    std err          t      P>|t|      [0.025      0.975]\n",
       "------------------------------------------------------------------------------------------------------------\n",
       "const                                        8.5855      8.693      0.988      0.334      -9.442      26.613\n",
       "Type                                        -0.0521      0.206     -0.253      0.803      -0.479       0.375\n",
       "NumberOfReviewInGoogle                      -0.0073      0.130     -0.056      0.956      -0.278       0.263\n",
       "NumberOfChecksPerMonth                       0.2894      0.246      1.179      0.251      -0.220       0.799\n",
       "The_average_number_of_units_in_the_check    -0.0058      0.015     -0.385      0.704      -0.037       0.025\n",
       "AverageIncomeOfThePopulation                -0.3894      0.772     -0.504      0.619      -1.990       1.212\n",
       "The_total_area_is_sq.m.                      0.0002      0.014      0.013      0.990      -0.029       0.029\n",
       "Stop_GT                                     -0.3817      0.348     -1.097      0.284      -1.103       0.340\n",
       "Stop_GT_at_home                              0.5141      0.479      1.074      0.294      -0.479       1.507\n",
       "The_final_stop_of_the_GT                     0.4408      0.476      0.926      0.365      -0.547       1.428\n",
       "Crosswalk                                   -0.3102      0.214     -1.450      0.161      -0.754       0.133\n",
       "Specialized_bread                            0.1853      0.301      0.616      0.544      -0.438       0.809\n",
       "==============================================================================\n",
       "Omnibus:                        2.571   Durbin-Watson:                   2.671\n",
       "Prob(Omnibus):                  0.277   Jarque-Bera (JB):                1.886\n",
       "Skew:                          -0.399   Prob(JB):                        0.389\n",
       "Kurtosis:                       2.166   Cond. No.                     2.70e+03\n",
       "==============================================================================\n",
       "\n",
       "Notes:\n",
       "[1] Standard Errors assume that the covariance matrix of the errors is correctly specified.\n",
       "[2] The condition number is large, 2.7e+03. This might indicate that there are\n",
       "strong multicollinearity or other numerical problems.\n",
       "\"\"\""
      ]
     },
     "execution_count": 34,
     "metadata": {},
     "output_type": "execute_result"
    }
   ],
   "source": [
    "\n",
    "# Checking p-values\n",
    "import statsmodels.api as sm\n",
    "X1 = sm.add_constant(X_train)\n",
    "mr1 = sm.OLS(y_train.astype(float), X1.astype(float)).fit()\n",
    "#mr1.pvalues\n",
    "mr1.summary()"
   ]
  },
  {
   "cell_type": "markdown",
   "id": "4800cbd6",
   "metadata": {},
   "source": [
    "# Recursive feature elimination"
   ]
  },
  {
   "cell_type": "code",
   "execution_count": 35,
   "id": "6abadcb0",
   "metadata": {},
   "outputs": [],
   "source": [
    "# Feature ranking with recursive feature elimination\n",
    "from sklearn.feature_selection import RFE\n",
    "n_features = X.shape[1]\n",
    "estimator = LinearRegression()\n",
    "selector = RFE(estimator,  n_features_to_select = 5)\n",
    "selector = selector.fit(X, y)\n",
    "\n",
    "# Selected Features\n",
    "selected_columns=[]\n",
    "for i in range(n_features):\n",
    "    if selector.support_[i] == True:\n",
    "        selected_columns.append(i)\n",
    "        \n",
    "f_lm = []\n",
    "for column in selected_columns:\n",
    "    f_lm.append(X.columns[column])"
   ]
  },
  {
   "cell_type": "code",
   "execution_count": 36,
   "id": "f62d5568",
   "metadata": {},
   "outputs": [
    {
     "data": {
      "text/plain": [
       "(array([-0.23183258,  0.39287237,  0.36119058,  0.34098977,  0.28001164]),\n",
       " 3.8970519754197026)"
      ]
     },
     "execution_count": 36,
     "metadata": {},
     "output_type": "execute_result"
    }
   ],
   "source": [
    "# Fitting Optimized Multiple Regression\n",
    "mr_rfe = LinearRegression().fit(X_train[f_lm], y_train)\n",
    "\n",
    "# Getting parameters\n",
    "mr_rfe.coef_, mr_rfe.intercept_"
   ]
  },
  {
   "cell_type": "code",
   "execution_count": 37,
   "id": "da6d0c24",
   "metadata": {},
   "outputs": [
    {
     "data": {
      "text/plain": [
       "0.233"
      ]
     },
     "execution_count": 37,
     "metadata": {},
     "output_type": "execute_result"
    }
   ],
   "source": [
    "# Predicting the Test set results\n",
    "y_pred = mr_rfe.predict(X_test[f_lm])\n",
    "\n",
    "# Coefficient of determination R^2\n",
    "mr_rfe.score(X_train[f_lm], y_train).round(3)"
   ]
  },
  {
   "cell_type": "code",
   "execution_count": 38,
   "id": "824b8b40",
   "metadata": {},
   "outputs": [
    {
     "data": {
      "text/plain": [
       "(0.42, 0.65)"
      ]
     },
     "execution_count": 38,
     "metadata": {},
     "output_type": "execute_result"
    }
   ],
   "source": [
    "# Mean squared error\n",
    "mse2 = mean_squared_error(y_train, mr_rfe.predict(X_train[f_lm]), squared=False).round(2), mean_squared_error(y_test, y_pred, squared=False).round(2)\n",
    "mse2"
   ]
  },
  {
   "cell_type": "markdown",
   "id": "dcb5d6cd",
   "metadata": {},
   "source": [
    "Итак, смотря на значение p-value мы видим, что каждая из переменных не является значимой. Однако из соответсвующих предикторов были отобраны 5 (значение p-value у которых не преувеличивает 0.45) При данном эксперименте был  получен R^2 = 0,13. Однако, следует заметить, что если увеличить число n_features_to_select  значение MSE значительно увеличивается и ее качество становится хуже. Оптимально n = 5. Но при єтом модель также переобучена"
   ]
  },
  {
   "cell_type": "code",
   "execution_count": 39,
   "id": "d0417fe4",
   "metadata": {},
   "outputs": [],
   "source": [
    "# Backward Elimination with p-values\n",
    "def backwardElimination(x, y, sl):\n",
    "    x = sm.add_constant(x)\n",
    "    numVars = x.shape[1]\n",
    "    for i in range(0, numVars):\n",
    "        regressor_OLS = sm.OLS(y.astype(float), x.astype(float)).fit()\n",
    "        maxVar = max(regressor_OLS.pvalues)\n",
    "        if maxVar > sl:\n",
    "            for j in range(0, numVars - i):\n",
    "                if (regressor_OLS.pvalues[j] == maxVar):\n",
    "                    x = x.drop(x.columns[j], axis=1)\n",
    "    regressor_OLS.summary()\n",
    "    return x\n",
    "\n",
    "SL = 0.1\n",
    "X_Modeled = backwardElimination(X_train, y_train, SL)"
   ]
  },
  {
   "cell_type": "markdown",
   "id": "5345b7d3",
   "metadata": {},
   "source": [
    "Отбор соответсвующих значимых переменных по критерию порогового значения (SL). Данный метод удобен для большого числа переменных, когда сложно посчитать сколько именно по критерию p-value значимых предикторов. Таким образом подобрано наиболее оптимальное пороговое значение (0.1).\n"
   ]
  },
  {
   "cell_type": "code",
   "execution_count": 40,
   "id": "ef0b2751",
   "metadata": {},
   "outputs": [
    {
     "data": {
      "text/plain": [
       "0.274"
      ]
     },
     "execution_count": 40,
     "metadata": {},
     "output_type": "execute_result"
    }
   ],
   "source": [
    "# Fitting Optimized Multiple Regression\n",
    "mr_be = LinearRegression().fit(X_Modeled, y_train)\n",
    "\n",
    "# Coefficient of determination R^2\n",
    "mr_be.score(X_Modeled, y_train).round(3)"
   ]
  },
  {
   "cell_type": "markdown",
   "id": "bce2aff6",
   "metadata": {},
   "source": [
    "Улучшено значение R^2 по сравнению с предыдущей моделью"
   ]
  },
  {
   "cell_type": "markdown",
   "id": "3b900af7",
   "metadata": {},
   "source": [
    "ВЫВОДЫ: модель описана не на высоком уровне и качество желает оставлять лучшего. Поэтому делаем вывод, что тех исходных данных для построения корректной модели недостаточно. Далее следует попробовать построить НС и сделать окончательный вывод. А самой значимой переменной является среднее количество чеков. Логично, что чем больше покупок, тем больший и оборот людей. Но, что было интересно выделить, что так же значимым параметром оказался специализированный хлеб. Данное введение является хорошим маркетинговым ходом и способно привлекать клиента (как был описан пример Класса и их выпечки). Так же значима площадь магазина. Логично, что чем больше площадь, тем больший поток людей."
   ]
  },
  {
   "cell_type": "markdown",
   "id": "5cb1b68e",
   "metadata": {},
   "source": [
    "# Pickle"
   ]
  },
  {
   "cell_type": "code",
   "execution_count": 41,
   "id": "4321fe75",
   "metadata": {},
   "outputs": [],
   "source": [
    "import pickle\n",
    "obj = {'X_train': X_train, 'X_test': X_test,'y_train': y_train,'y_test': y_test}\n",
    "output = open('data_reg.pkl', 'wb')\n",
    "pickle.dump(obj, output, 2)\n",
    "output.close()"
   ]
  },
  {
   "cell_type": "code",
   "execution_count": null,
   "id": "46e9ecb8",
   "metadata": {},
   "outputs": [],
   "source": []
  }
 ],
 "metadata": {
  "kernelspec": {
   "display_name": "Python 3 (ipykernel)",
   "language": "python",
   "name": "python3"
  },
  "language_info": {
   "codemirror_mode": {
    "name": "ipython",
    "version": 3
   },
   "file_extension": ".py",
   "mimetype": "text/x-python",
   "name": "python",
   "nbconvert_exporter": "python",
   "pygments_lexer": "ipython3",
   "version": "3.8.12"
  }
 },
 "nbformat": 4,
 "nbformat_minor": 5
}
