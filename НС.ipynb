{
 "cells": [
  {
   "cell_type": "markdown",
   "id": "20a9747a",
   "metadata": {},
   "source": [
    "# Regression Neural Network"
   ]
  },
  {
   "cell_type": "code",
   "execution_count": 1,
   "id": "43e1d4b1",
   "metadata": {},
   "outputs": [],
   "source": [
    "import numpy as np\n",
    "import matplotlib.pyplot as plt\n",
    "import pandas as pd"
   ]
  },
  {
   "cell_type": "code",
   "execution_count": 2,
   "id": "1666664b",
   "metadata": {},
   "outputs": [],
   "source": [
    "import pickle\n",
    "input = open('data_reg.pkl', 'rb')\n",
    "obj = pickle.load(input)\n",
    "input.close()\n",
    "X_train = obj[\"X_train\"]\n",
    "X_test = obj[\"X_test\"]\n",
    "y_train = obj[\"y_train\"]\n",
    "y_test = obj[\"y_test\"]\n",
    "\n",
    "y_train = np.asarray(y_train).reshape(-1,1)\n",
    "y_test = np.asarray(y_test).reshape(-1,1)"
   ]
  },
  {
   "cell_type": "code",
   "execution_count": 3,
   "id": "7d75ea9f",
   "metadata": {},
   "outputs": [],
   "source": [
    "\n",
    "# Feature Scaling\n",
    "from sklearn.preprocessing import StandardScaler\n",
    "sc_X = StandardScaler().fit(X_train)\n",
    "X_train = sc_X.transform(X_train)\n",
    "X_test = sc_X.transform(X_test)\n",
    "sc_y = StandardScaler().fit(y_train)\n",
    "y_train = sc_y.transform(y_train)\n",
    "y_test = sc_y.transform(y_test)"
   ]
  },
  {
   "cell_type": "code",
   "execution_count": 4,
   "id": "7eb0e600",
   "metadata": {},
   "outputs": [],
   "source": [
    "#!pip install tensorflow\n",
    "#!pip install keras"
   ]
  },
  {
   "cell_type": "code",
   "execution_count": 5,
   "id": "3833354d",
   "metadata": {},
   "outputs": [],
   "source": [
    "import keras\n",
    "from keras.models import Sequential\n",
    "from keras.layers import Dense\n"
   ]
  },
  {
   "cell_type": "code",
   "execution_count": 6,
   "id": "610de97b",
   "metadata": {},
   "outputs": [],
   "source": [
    "\n",
    "# Initialising the ANN\n",
    "rnn = Sequential()\n",
    "\n",
    "# Adding the input layer and the first hidden layer\n",
    "rnn.add(Dense(12, activation = 'tanh', input_dim = 11))\n",
    "\n",
    "# Adding the second hidden layer\n",
    "rnn.add(Dense(7, activation = 'tanh'))\n",
    "\n",
    "\n",
    "# Adding the output layer\n",
    "rnn.add(Dense(1, activation = 'linear'))\n",
    "\n",
    "# Compiling the ANN\n",
    "rnn.compile(optimizer='adam', loss='mean_squared_error', metrics = ['accuracy'])\n"
   ]
  },
  {
   "cell_type": "code",
   "execution_count": 7,
   "id": "154ee33f",
   "metadata": {},
   "outputs": [
    {
     "name": "stdout",
     "output_type": "stream",
     "text": [
      "Epoch 1/100\n",
      "4/4 [==============================] - 1s 108ms/step - loss: 1.6568 - accuracy: 0.0000e+00 - val_loss: 4.5950 - val_accuracy: 0.0000e+00\n",
      "Epoch 2/100\n",
      "4/4 [==============================] - 0s 13ms/step - loss: 1.5792 - accuracy: 0.0000e+00 - val_loss: 4.5113 - val_accuracy: 0.0000e+00\n",
      "Epoch 3/100\n",
      "4/4 [==============================] - 0s 20ms/step - loss: 1.5122 - accuracy: 0.0000e+00 - val_loss: 4.4514 - val_accuracy: 0.0000e+00\n",
      "Epoch 4/100\n",
      "4/4 [==============================] - 0s 14ms/step - loss: 1.4508 - accuracy: 0.0000e+00 - val_loss: 4.4043 - val_accuracy: 0.0000e+00\n",
      "Epoch 5/100\n",
      "4/4 [==============================] - 0s 19ms/step - loss: 1.3996 - accuracy: 0.0000e+00 - val_loss: 4.3604 - val_accuracy: 0.0000e+00\n",
      "Epoch 6/100\n",
      "4/4 [==============================] - 0s 16ms/step - loss: 1.3364 - accuracy: 0.0000e+00 - val_loss: 4.3077 - val_accuracy: 0.0000e+00\n",
      "Epoch 7/100\n",
      "4/4 [==============================] - 0s 24ms/step - loss: 1.2919 - accuracy: 0.0000e+00 - val_loss: 4.2463 - val_accuracy: 0.0000e+00\n",
      "Epoch 8/100\n",
      "4/4 [==============================] - 0s 24ms/step - loss: 1.2491 - accuracy: 0.0000e+00 - val_loss: 4.1919 - val_accuracy: 0.0000e+00\n",
      "Epoch 9/100\n",
      "4/4 [==============================] - 0s 23ms/step - loss: 1.2051 - accuracy: 0.0000e+00 - val_loss: 4.1490 - val_accuracy: 0.0000e+00\n",
      "Epoch 10/100\n",
      "4/4 [==============================] - 0s 14ms/step - loss: 1.1629 - accuracy: 0.0000e+00 - val_loss: 4.1111 - val_accuracy: 0.0000e+00\n",
      "Epoch 11/100\n",
      "4/4 [==============================] - 0s 12ms/step - loss: 1.1274 - accuracy: 0.0000e+00 - val_loss: 4.0845 - val_accuracy: 0.0000e+00\n",
      "Epoch 12/100\n",
      "4/4 [==============================] - 0s 21ms/step - loss: 1.0922 - accuracy: 0.0000e+00 - val_loss: 4.0499 - val_accuracy: 0.0000e+00\n",
      "Epoch 13/100\n",
      "4/4 [==============================] - 0s 16ms/step - loss: 1.0598 - accuracy: 0.0000e+00 - val_loss: 4.0304 - val_accuracy: 0.0000e+00\n",
      "Epoch 14/100\n",
      "4/4 [==============================] - 0s 13ms/step - loss: 1.0275 - accuracy: 0.0000e+00 - val_loss: 4.0055 - val_accuracy: 0.0000e+00\n",
      "Epoch 15/100\n",
      "4/4 [==============================] - 0s 16ms/step - loss: 0.9990 - accuracy: 0.0000e+00 - val_loss: 3.9820 - val_accuracy: 0.0000e+00\n",
      "Epoch 16/100\n",
      "4/4 [==============================] - 0s 15ms/step - loss: 0.9718 - accuracy: 0.0000e+00 - val_loss: 3.9600 - val_accuracy: 0.0000e+00\n",
      "Epoch 17/100\n",
      "4/4 [==============================] - 0s 16ms/step - loss: 0.9474 - accuracy: 0.0000e+00 - val_loss: 3.9427 - val_accuracy: 0.0000e+00\n",
      "Epoch 18/100\n",
      "4/4 [==============================] - 0s 15ms/step - loss: 0.9237 - accuracy: 0.0000e+00 - val_loss: 3.9262 - val_accuracy: 0.0000e+00\n",
      "Epoch 19/100\n",
      "4/4 [==============================] - 0s 11ms/step - loss: 0.9036 - accuracy: 0.0000e+00 - val_loss: 3.9053 - val_accuracy: 0.0000e+00\n",
      "Epoch 20/100\n",
      "4/4 [==============================] - 0s 12ms/step - loss: 0.8797 - accuracy: 0.0000e+00 - val_loss: 3.8832 - val_accuracy: 0.0000e+00\n",
      "Epoch 21/100\n",
      "4/4 [==============================] - 0s 14ms/step - loss: 0.8630 - accuracy: 0.0000e+00 - val_loss: 3.8552 - val_accuracy: 0.0000e+00\n",
      "Epoch 22/100\n",
      "4/4 [==============================] - 0s 16ms/step - loss: 0.8441 - accuracy: 0.0000e+00 - val_loss: 3.8314 - val_accuracy: 0.0000e+00\n",
      "Epoch 23/100\n",
      "4/4 [==============================] - 0s 12ms/step - loss: 0.8254 - accuracy: 0.0000e+00 - val_loss: 3.8069 - val_accuracy: 0.0000e+00\n",
      "Epoch 24/100\n",
      "4/4 [==============================] - 0s 11ms/step - loss: 0.8102 - accuracy: 0.0000e+00 - val_loss: 3.7846 - val_accuracy: 0.0000e+00\n",
      "Epoch 25/100\n",
      "4/4 [==============================] - 0s 16ms/step - loss: 0.7949 - accuracy: 0.0000e+00 - val_loss: 3.7745 - val_accuracy: 0.0000e+00\n",
      "Epoch 26/100\n",
      "4/4 [==============================] - 0s 19ms/step - loss: 0.7793 - accuracy: 0.0000e+00 - val_loss: 3.7707 - val_accuracy: 0.0000e+00\n",
      "Epoch 27/100\n",
      "4/4 [==============================] - 0s 21ms/step - loss: 0.7658 - accuracy: 0.0000e+00 - val_loss: 3.7649 - val_accuracy: 0.0000e+00\n",
      "Epoch 28/100\n",
      "4/4 [==============================] - 0s 22ms/step - loss: 0.7539 - accuracy: 0.0000e+00 - val_loss: 3.7564 - val_accuracy: 0.0000e+00\n",
      "Epoch 29/100\n",
      "4/4 [==============================] - 0s 17ms/step - loss: 0.7441 - accuracy: 0.0000e+00 - val_loss: 3.7472 - val_accuracy: 0.0000e+00\n",
      "Epoch 30/100\n",
      "4/4 [==============================] - 0s 26ms/step - loss: 0.7309 - accuracy: 0.0000e+00 - val_loss: 3.7389 - val_accuracy: 0.0000e+00\n",
      "Epoch 31/100\n",
      "4/4 [==============================] - 0s 18ms/step - loss: 0.7206 - accuracy: 0.0000e+00 - val_loss: 3.7366 - val_accuracy: 0.0000e+00\n",
      "Epoch 32/100\n",
      "4/4 [==============================] - 0s 13ms/step - loss: 0.7101 - accuracy: 0.0000e+00 - val_loss: 3.7321 - val_accuracy: 0.0000e+00\n",
      "Epoch 33/100\n",
      "4/4 [==============================] - 0s 13ms/step - loss: 0.7004 - accuracy: 0.0000e+00 - val_loss: 3.7274 - val_accuracy: 0.0000e+00\n",
      "Epoch 34/100\n",
      "4/4 [==============================] - 0s 19ms/step - loss: 0.6901 - accuracy: 0.0000e+00 - val_loss: 3.7151 - val_accuracy: 0.0000e+00\n",
      "Epoch 35/100\n",
      "4/4 [==============================] - 0s 16ms/step - loss: 0.6792 - accuracy: 0.0000e+00 - val_loss: 3.7043 - val_accuracy: 0.0000e+00\n",
      "Epoch 36/100\n",
      "4/4 [==============================] - 0s 21ms/step - loss: 0.6699 - accuracy: 0.0000e+00 - val_loss: 3.7065 - val_accuracy: 0.0000e+00\n",
      "Epoch 37/100\n",
      "4/4 [==============================] - 0s 17ms/step - loss: 0.6615 - accuracy: 0.0000e+00 - val_loss: 3.7056 - val_accuracy: 0.0000e+00\n",
      "Epoch 38/100\n",
      "4/4 [==============================] - 0s 18ms/step - loss: 0.6557 - accuracy: 0.0000e+00 - val_loss: 3.7134 - val_accuracy: 0.0000e+00\n",
      "Epoch 39/100\n",
      "4/4 [==============================] - 0s 18ms/step - loss: 0.6464 - accuracy: 0.0000e+00 - val_loss: 3.7190 - val_accuracy: 0.0000e+00\n",
      "Epoch 40/100\n",
      "4/4 [==============================] - 0s 14ms/step - loss: 0.6394 - accuracy: 0.0000e+00 - val_loss: 3.7172 - val_accuracy: 0.0000e+00\n",
      "Epoch 41/100\n",
      "4/4 [==============================] - 0s 15ms/step - loss: 0.6325 - accuracy: 0.0000e+00 - val_loss: 3.7164 - val_accuracy: 0.0000e+00\n",
      "Epoch 42/100\n",
      "4/4 [==============================] - 0s 16ms/step - loss: 0.6265 - accuracy: 0.0000e+00 - val_loss: 3.7013 - val_accuracy: 0.0000e+00\n",
      "Epoch 43/100\n",
      "4/4 [==============================] - 0s 22ms/step - loss: 0.6193 - accuracy: 0.0000e+00 - val_loss: 3.6944 - val_accuracy: 0.0000e+00\n",
      "Epoch 44/100\n",
      "4/4 [==============================] - 0s 20ms/step - loss: 0.6143 - accuracy: 0.0000e+00 - val_loss: 3.6903 - val_accuracy: 0.0000e+00\n",
      "Epoch 45/100\n",
      "4/4 [==============================] - 0s 12ms/step - loss: 0.6073 - accuracy: 0.0000e+00 - val_loss: 3.6921 - val_accuracy: 0.0000e+00\n",
      "Epoch 46/100\n",
      "4/4 [==============================] - 0s 19ms/step - loss: 0.6024 - accuracy: 0.0000e+00 - val_loss: 3.6816 - val_accuracy: 0.0000e+00\n",
      "Epoch 47/100\n",
      "4/4 [==============================] - 0s 16ms/step - loss: 0.5949 - accuracy: 0.0000e+00 - val_loss: 3.6801 - val_accuracy: 0.0000e+00\n",
      "Epoch 48/100\n",
      "4/4 [==============================] - 0s 18ms/step - loss: 0.5905 - accuracy: 0.0000e+00 - val_loss: 3.6738 - val_accuracy: 0.0000e+00\n",
      "Epoch 49/100\n",
      "4/4 [==============================] - 0s 15ms/step - loss: 0.5838 - accuracy: 0.0000e+00 - val_loss: 3.6782 - val_accuracy: 0.0000e+00\n",
      "Epoch 50/100\n",
      "4/4 [==============================] - 0s 15ms/step - loss: 0.5773 - accuracy: 0.0000e+00 - val_loss: 3.6868 - val_accuracy: 0.0000e+00\n",
      "Epoch 51/100\n",
      "4/4 [==============================] - 0s 16ms/step - loss: 0.5728 - accuracy: 0.0000e+00 - val_loss: 3.6992 - val_accuracy: 0.0000e+00\n",
      "Epoch 52/100\n",
      "4/4 [==============================] - 0s 15ms/step - loss: 0.5659 - accuracy: 0.0000e+00 - val_loss: 3.7143 - val_accuracy: 0.0000e+00\n",
      "Epoch 53/100\n",
      "4/4 [==============================] - 0s 14ms/step - loss: 0.5607 - accuracy: 0.0000e+00 - val_loss: 3.7294 - val_accuracy: 0.0000e+00\n",
      "Epoch 54/100\n",
      "4/4 [==============================] - 0s 11ms/step - loss: 0.5571 - accuracy: 0.0000e+00 - val_loss: 3.7474 - val_accuracy: 0.0000e+00\n",
      "Epoch 55/100\n",
      "4/4 [==============================] - 0s 10ms/step - loss: 0.5513 - accuracy: 0.0000e+00 - val_loss: 3.7593 - val_accuracy: 0.0000e+00\n",
      "Epoch 56/100\n"
     ]
    },
    {
     "name": "stdout",
     "output_type": "stream",
     "text": [
      "4/4 [==============================] - 0s 10ms/step - loss: 0.5448 - accuracy: 0.0000e+00 - val_loss: 3.7704 - val_accuracy: 0.0000e+00\n",
      "Epoch 57/100\n",
      "4/4 [==============================] - 0s 17ms/step - loss: 0.5383 - accuracy: 0.0000e+00 - val_loss: 3.7743 - val_accuracy: 0.0000e+00\n",
      "Epoch 58/100\n",
      "4/4 [==============================] - 0s 17ms/step - loss: 0.5326 - accuracy: 0.0000e+00 - val_loss: 3.7743 - val_accuracy: 0.0000e+00\n",
      "Epoch 59/100\n",
      "4/4 [==============================] - 0s 18ms/step - loss: 0.5271 - accuracy: 0.0000e+00 - val_loss: 3.7842 - val_accuracy: 0.0000e+00\n",
      "Epoch 60/100\n",
      "4/4 [==============================] - 0s 16ms/step - loss: 0.5221 - accuracy: 0.0000e+00 - val_loss: 3.7909 - val_accuracy: 0.0000e+00\n",
      "Epoch 61/100\n",
      "4/4 [==============================] - 0s 17ms/step - loss: 0.5170 - accuracy: 0.0000e+00 - val_loss: 3.7867 - val_accuracy: 0.0000e+00\n",
      "Epoch 62/100\n",
      "4/4 [==============================] - 0s 16ms/step - loss: 0.5102 - accuracy: 0.0000e+00 - val_loss: 3.7902 - val_accuracy: 0.0000e+00\n",
      "Epoch 63/100\n",
      "4/4 [==============================] - 0s 19ms/step - loss: 0.5062 - accuracy: 0.0000e+00 - val_loss: 3.7886 - val_accuracy: 0.0000e+00\n",
      "Epoch 64/100\n",
      "4/4 [==============================] - 0s 20ms/step - loss: 0.5015 - accuracy: 0.0000e+00 - val_loss: 3.7887 - val_accuracy: 0.0000e+00\n",
      "Epoch 65/100\n",
      "4/4 [==============================] - 0s 27ms/step - loss: 0.4969 - accuracy: 0.0000e+00 - val_loss: 3.7839 - val_accuracy: 0.0000e+00\n",
      "Epoch 66/100\n",
      "4/4 [==============================] - 0s 21ms/step - loss: 0.4924 - accuracy: 0.0000e+00 - val_loss: 3.7811 - val_accuracy: 0.0000e+00\n",
      "Epoch 67/100\n",
      "4/4 [==============================] - 0s 20ms/step - loss: 0.4884 - accuracy: 0.0000e+00 - val_loss: 3.7802 - val_accuracy: 0.0000e+00\n",
      "Epoch 68/100\n",
      "4/4 [==============================] - 0s 13ms/step - loss: 0.4830 - accuracy: 0.0000e+00 - val_loss: 3.7883 - val_accuracy: 0.0000e+00\n",
      "Epoch 69/100\n",
      "4/4 [==============================] - 0s 17ms/step - loss: 0.4794 - accuracy: 0.0000e+00 - val_loss: 3.8031 - val_accuracy: 0.0000e+00\n",
      "Epoch 70/100\n",
      "4/4 [==============================] - 0s 15ms/step - loss: 0.4746 - accuracy: 0.0000e+00 - val_loss: 3.8100 - val_accuracy: 0.0000e+00\n",
      "Epoch 71/100\n",
      "4/4 [==============================] - 0s 15ms/step - loss: 0.4709 - accuracy: 0.0000e+00 - val_loss: 3.8017 - val_accuracy: 0.0000e+00\n",
      "Epoch 72/100\n",
      "4/4 [==============================] - 0s 15ms/step - loss: 0.4688 - accuracy: 0.0000e+00 - val_loss: 3.7962 - val_accuracy: 0.0000e+00\n",
      "Epoch 73/100\n",
      "4/4 [==============================] - 0s 16ms/step - loss: 0.4634 - accuracy: 0.0000e+00 - val_loss: 3.7937 - val_accuracy: 0.0000e+00\n",
      "Epoch 74/100\n",
      "4/4 [==============================] - 0s 23ms/step - loss: 0.4599 - accuracy: 0.0000e+00 - val_loss: 3.7989 - val_accuracy: 0.0000e+00\n",
      "Epoch 75/100\n",
      "4/4 [==============================] - 0s 18ms/step - loss: 0.4562 - accuracy: 0.0000e+00 - val_loss: 3.8056 - val_accuracy: 0.0000e+00\n",
      "Epoch 76/100\n",
      "4/4 [==============================] - 0s 20ms/step - loss: 0.4531 - accuracy: 0.0000e+00 - val_loss: 3.8107 - val_accuracy: 0.0000e+00\n",
      "Epoch 77/100\n",
      "4/4 [==============================] - 0s 20ms/step - loss: 0.4493 - accuracy: 0.0000e+00 - val_loss: 3.8144 - val_accuracy: 0.0000e+00\n",
      "Epoch 78/100\n",
      "4/4 [==============================] - 0s 27ms/step - loss: 0.4461 - accuracy: 0.0000e+00 - val_loss: 3.8248 - val_accuracy: 0.0000e+00\n",
      "Epoch 79/100\n",
      "4/4 [==============================] - 0s 19ms/step - loss: 0.4425 - accuracy: 0.0000e+00 - val_loss: 3.8260 - val_accuracy: 0.0000e+00\n",
      "Epoch 80/100\n",
      "4/4 [==============================] - 0s 14ms/step - loss: 0.4397 - accuracy: 0.0000e+00 - val_loss: 3.8258 - val_accuracy: 0.0000e+00\n",
      "Epoch 81/100\n",
      "4/4 [==============================] - 0s 18ms/step - loss: 0.4372 - accuracy: 0.0000e+00 - val_loss: 3.8148 - val_accuracy: 0.0000e+00\n",
      "Epoch 82/100\n",
      "4/4 [==============================] - 0s 15ms/step - loss: 0.4339 - accuracy: 0.0000e+00 - val_loss: 3.8085 - val_accuracy: 0.0000e+00\n",
      "Epoch 83/100\n",
      "4/4 [==============================] - 0s 15ms/step - loss: 0.4314 - accuracy: 0.0000e+00 - val_loss: 3.8056 - val_accuracy: 0.0000e+00\n",
      "Epoch 84/100\n",
      "4/4 [==============================] - 0s 16ms/step - loss: 0.4287 - accuracy: 0.0000e+00 - val_loss: 3.8081 - val_accuracy: 0.0000e+00\n",
      "Epoch 85/100\n",
      "4/4 [==============================] - 0s 16ms/step - loss: 0.4262 - accuracy: 0.0000e+00 - val_loss: 3.8046 - val_accuracy: 0.0000e+00\n",
      "Epoch 86/100\n",
      "4/4 [==============================] - 0s 22ms/step - loss: 0.4233 - accuracy: 0.0000e+00 - val_loss: 3.7968 - val_accuracy: 0.0000e+00\n",
      "Epoch 87/100\n",
      "4/4 [==============================] - 0s 23ms/step - loss: 0.4206 - accuracy: 0.0000e+00 - val_loss: 3.7923 - val_accuracy: 0.0000e+00\n",
      "Epoch 88/100\n",
      "4/4 [==============================] - 0s 17ms/step - loss: 0.4178 - accuracy: 0.0000e+00 - val_loss: 3.7956 - val_accuracy: 0.0000e+00\n",
      "Epoch 89/100\n",
      "4/4 [==============================] - 0s 17ms/step - loss: 0.4149 - accuracy: 0.0000e+00 - val_loss: 3.7882 - val_accuracy: 0.0000e+00\n",
      "Epoch 90/100\n",
      "4/4 [==============================] - 0s 14ms/step - loss: 0.4130 - accuracy: 0.0000e+00 - val_loss: 3.7724 - val_accuracy: 0.0000e+00\n",
      "Epoch 91/100\n",
      "4/4 [==============================] - 0s 15ms/step - loss: 0.4119 - accuracy: 0.0000e+00 - val_loss: 3.7624 - val_accuracy: 0.0000e+00\n",
      "Epoch 92/100\n",
      "4/4 [==============================] - 0s 16ms/step - loss: 0.4095 - accuracy: 0.0000e+00 - val_loss: 3.7595 - val_accuracy: 0.0000e+00\n",
      "Epoch 93/100\n",
      "4/4 [==============================] - 0s 18ms/step - loss: 0.4065 - accuracy: 0.0000e+00 - val_loss: 3.7629 - val_accuracy: 0.0000e+00\n",
      "Epoch 94/100\n",
      "4/4 [==============================] - 0s 16ms/step - loss: 0.4035 - accuracy: 0.0000e+00 - val_loss: 3.7691 - val_accuracy: 0.0000e+00\n",
      "Epoch 95/100\n",
      "4/4 [==============================] - 0s 14ms/step - loss: 0.4013 - accuracy: 0.0000e+00 - val_loss: 3.7748 - val_accuracy: 0.0000e+00\n",
      "Epoch 96/100\n",
      "4/4 [==============================] - 0s 19ms/step - loss: 0.3990 - accuracy: 0.0000e+00 - val_loss: 3.7738 - val_accuracy: 0.0000e+00\n",
      "Epoch 97/100\n",
      "4/4 [==============================] - 0s 20ms/step - loss: 0.3964 - accuracy: 0.0000e+00 - val_loss: 3.7713 - val_accuracy: 0.0000e+00\n",
      "Epoch 98/100\n",
      "4/4 [==============================] - 0s 29ms/step - loss: 0.3936 - accuracy: 0.0000e+00 - val_loss: 3.7730 - val_accuracy: 0.0000e+00\n",
      "Epoch 99/100\n",
      "4/4 [==============================] - 0s 22ms/step - loss: 0.3911 - accuracy: 0.0000e+00 - val_loss: 3.7720 - val_accuracy: 0.0000e+00\n",
      "Epoch 100/100\n",
      "4/4 [==============================] - 0s 22ms/step - loss: 0.3888 - accuracy: 0.0000e+00 - val_loss: 3.7611 - val_accuracy: 0.0000e+00\n"
     ]
    }
   ],
   "source": [
    "# Fitting the ANN to the Training set\n",
    "k = rnn.fit(X_train, y_train, batch_size = 10, validation_data=(X_test, y_test), epochs = 100)"
   ]
  },
  {
   "cell_type": "code",
   "execution_count": 8,
   "id": "928276a1",
   "metadata": {},
   "outputs": [],
   "source": [
    "# Predicting the Test set results\n",
    "y_pred = rnn.predict(X_test)"
   ]
  },
  {
   "cell_type": "code",
   "execution_count": 9,
   "id": "1c0134b0",
   "metadata": {},
   "outputs": [
    {
     "data": {
      "image/png": "[encoded data removed]",
      "text/plain": [
       "<Figure size 432x288 with 1 Axes>"
      ]
     },
     "metadata": {
      "needs_background": "light"
     },
     "output_type": "display_data"
    }
   ],
   "source": [
    "\n",
    "# Plotting loss & accuracy\n",
    "plt.figure()\n",
    "plt.plot(k.history['loss'])\n",
    "plt.plot(k.history['val_loss'])\n",
    "plt.title('model loss')\n",
    "plt.ylabel('loss')\n",
    "plt.xlabel('epoch')\n",
    "plt.legend(['train', 'test'], loc='best')\n",
    "plt.show()"
   ]
  },
  {
   "cell_type": "markdown",
   "id": "06cc7062",
   "metadata": {},
   "source": [
    "Для данной модели был проведен опят с числом batch_size. На более 10 тестовая и обучающая выборки на всех эпохах не пересекаются, а значит модель переобучена всем интервале. Минимальный разрыв наблюдается примерно на 5 эпохах. Однако при batch_size = 8 - качество несколько хуже. Построим соответсвующую модель."
   ]
  },
  {
   "cell_type": "code",
   "execution_count": 10,
   "id": "87651eeb",
   "metadata": {},
   "outputs": [],
   "source": [
    "# Initialising the ANN\n",
    "rnn1 = Sequential()\n",
    "\n",
    "# Adding the input layer and the first hidden layer\n",
    "rnn1.add(Dense(12, activation = 'tanh', input_dim = 11))\n",
    "\n",
    "\n",
    "# Adding the third hidden layer\n",
    "rnn1.add(Dense(7, activation = 'tanh'))\n",
    "\n",
    "# Adding the output layer\n",
    "rnn1.add(Dense(1, activation = 'linear'))\n",
    "\n",
    "# Compiling the ANN\n",
    "rnn1.compile(optimizer='adam', loss='mean_squared_error', metrics = ['accuracy'])"
   ]
  },
  {
   "cell_type": "code",
   "execution_count": 11,
   "id": "58c33466",
   "metadata": {},
   "outputs": [
    {
     "name": "stdout",
     "output_type": "stream",
     "text": [
      "Epoch 1/5\n",
      "4/4 [==============================] - 1s 100ms/step - loss: 1.5196 - accuracy: 0.0000e+00 - val_loss: 2.7075 - val_accuracy: 0.0000e+00\n",
      "Epoch 2/5\n",
      "4/4 [==============================] - 0s 19ms/step - loss: 1.4321 - accuracy: 0.0000e+00 - val_loss: 2.6792 - val_accuracy: 0.0000e+00\n",
      "Epoch 3/5\n",
      "4/4 [==============================] - 0s 20ms/step - loss: 1.3605 - accuracy: 0.0000e+00 - val_loss: 2.6452 - val_accuracy: 0.0000e+00\n",
      "Epoch 4/5\n",
      "4/4 [==============================] - 0s 13ms/step - loss: 1.3006 - accuracy: 0.0000e+00 - val_loss: 2.6136 - val_accuracy: 0.0000e+00\n",
      "Epoch 5/5\n",
      "4/4 [==============================] - 0s 13ms/step - loss: 1.2538 - accuracy: 0.0000e+00 - val_loss: 2.5872 - val_accuracy: 0.0000e+00\n"
     ]
    }
   ],
   "source": [
    "# Fitting the ANN to the Training set\n",
    "k1 = rnn1.fit(X_train, y_train, batch_size = 10, validation_data=(X_test, y_test), epochs = 5)"
   ]
  },
  {
   "cell_type": "code",
   "execution_count": 12,
   "id": "dc24d018",
   "metadata": {},
   "outputs": [],
   "source": [
    "\n",
    "# Predicting the Test set results\n",
    "y_pred1 = rnn1.predict(X_test)"
   ]
  },
  {
   "cell_type": "code",
   "execution_count": 13,
   "id": "dd95274d",
   "metadata": {},
   "outputs": [
    {
     "data": {
      "image/png": "[encoded data removed]",
      "text/plain": [
       "<Figure size 432x288 with 1 Axes>"
      ]
     },
     "metadata": {
      "needs_background": "light"
     },
     "output_type": "display_data"
    }
   ],
   "source": [
    "\n",
    "# Plotting loss & accuracy\n",
    "plt.figure()\n",
    "plt.plot(k1.history['loss'])\n",
    "plt.plot(k1.history['val_loss'])\n",
    "plt.title('model loss')\n",
    "plt.ylabel('loss')\n",
    "plt.xlabel('epoch')\n",
    "plt.legend(['train', 'test'], loc='best')\n",
    "plt.show()"
   ]
  },
  {
   "cell_type": "code",
   "execution_count": 14,
   "id": "ca988473",
   "metadata": {},
   "outputs": [],
   "source": [
    "\n",
    "# Inversing scaling\n",
    "from sklearn.preprocessing import StandardScaler\n",
    "y_hat = sc_y.inverse_transform(y_pred)\n",
    "y_hat1 = sc_y.inverse_transform(y_pred1)\n",
    "y_test = sc_y.inverse_transform(y_test)\n",
    "X_test = sc_X.inverse_transform(X_test)"
   ]
  },
  {
   "cell_type": "code",
   "execution_count": 15,
   "id": "84a9debf",
   "metadata": {},
   "outputs": [
    {
     "data": {
      "text/plain": [
       "(0.296, 0.922)"
      ]
     },
     "execution_count": 15,
     "metadata": {},
     "output_type": "execute_result"
    }
   ],
   "source": [
    "# Mean squared error\n",
    "from sklearn.metrics import mean_squared_error\n",
    "mean_squared_error(sc_y.inverse_transform(y_train), sc_y.inverse_transform(rnn.predict(X_train)), squared=False).round(3), mean_squared_error(y_test, y_hat, squared=False).round(3)"
   ]
  },
  {
   "cell_type": "code",
   "execution_count": 16,
   "id": "a3458449",
   "metadata": {},
   "outputs": [
    {
     "data": {
      "text/plain": [
       "(0.524, 0.765)"
      ]
     },
     "execution_count": 16,
     "metadata": {},
     "output_type": "execute_result"
    }
   ],
   "source": [
    "# Mean squared error\n",
    "from sklearn.metrics import mean_squared_error\n",
    "mean_squared_error(sc_y.inverse_transform(y_train), sc_y.inverse_transform(rnn1.predict(X_train)), squared=False).round(3), mean_squared_error(y_test, y_hat1, squared=False).round(3)"
   ]
  },
  {
   "cell_type": "code",
   "execution_count": 17,
   "id": "4898c323",
   "metadata": {},
   "outputs": [],
   "source": [
    "# Inversing scaling\n",
    "from sklearn.preprocessing import StandardScaler\n",
    "y_hat1 = sc_y.inverse_transform(y_pred1)\n",
    "y_test1 = sc_y.inverse_transform(y_test)\n",
    "X_test1 = sc_X.inverse_transform(X_test)"
   ]
  },
  {
   "cell_type": "markdown",
   "id": "2436c71c",
   "metadata": {},
   "source": [
    "ВЫВОДЫ: как мы видим, НС справилась со своей задачей не наилучшим образом. Получены сопоставимы оценки и модель не сильно переобучена. Однако метод Recursive feature elimination в модели Множественной регресси выдал примерно такие же сопоставимые результаты, однако с меньшим MSE. Таким образом для дальнейшей работы следует использовать именно этот метод. Однако, следует заметить, что входных данных достатоточно маленькое число (возможно число предикторов и способно построить модель высокого уровня, однако количество наблюдений совсем маленькое). Таким образом, данную модель сложно использовать для корректной дальнейшей работы, но при внесении дополнительной информации получится интересное исследование поведения потребителей."
   ]
  },
  {
   "cell_type": "markdown",
   "id": "8b25fdec",
   "metadata": {},
   "source": [
    "Так же была построена НС на наиболее значимых переменных. Выводы про нее смотреть в соответствующем файле."
   ]
  },
  {
   "cell_type": "code",
   "execution_count": null,
   "id": "2b2e91d7",
   "metadata": {},
   "outputs": [],
   "source": []
  }
 ],
 "metadata": {
  "kernelspec": {
   "display_name": "Python 3 (ipykernel)",
   "language": "python",
   "name": "python3"
  },
  "language_info": {
   "codemirror_mode": {
    "name": "ipython",
    "version": 3
   },
   "file_extension": ".py",
   "mimetype": "text/x-python",
   "name": "python",
   "nbconvert_exporter": "python",
   "pygments_lexer": "ipython3",
   "version": "3.8.12"
  }
 },
 "nbformat": 4,
 "nbformat_minor": 5
}
